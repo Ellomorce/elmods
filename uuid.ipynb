{
 "cells": [
  {
   "cell_type": "code",
   "execution_count": 2,
   "id": "1e0e5c1b",
   "metadata": {},
   "outputs": [],
   "source": [
    "import uuid\n",
    "import random\n",
    "def generate_custom_id(add_version=False):\n",
    "    new_uuid = uuid.uuid4()\n",
    "    hex_string = new_uuid.hex # 例如: '468b07a5ad854884a4d90f7a9d4fcb09'\n",
    "    \n",
    "    part1 = hex_string[0:8]\n",
    "    part2 = hex_string[8:12]\n",
    "    part3 = hex_string[12:16]\n",
    "    part4 = hex_string[16:20]\n",
    "    part5 = hex_string[20:32]\n",
    "    \n",
    "    custom_id = f\"h{part1}g{part2}g{part3}g{part4}g{part5}\"\n",
    "    \n",
    "    # 4. 如果需要，添加分號和版本號\n",
    "    if add_version:\n",
    "        version = random.randint(1, 5) # 範例，您可以自訂版本號的邏輯\n",
    "        custom_id = f\"{custom_id};{version}\"\n",
    "    return custom_id"
   ]
  },
  {
   "cell_type": "code",
   "execution_count": 9,
   "id": "0260a149",
   "metadata": {},
   "outputs": [
    {
     "name": "stdout",
     "output_type": "stream",
     "text": [
      "Your New UUID is: a495f39e-d80a-4c97-b4d4-1538ae5b6bc0\n"
     ]
    }
   ],
   "source": [
    "new_uuid = uuid.uuid4()\n",
    "print(\"Your New UUID is:\", new_uuid)"
   ]
  },
  {
   "cell_type": "code",
   "execution_count": 8,
   "id": "026fb257",
   "metadata": {},
   "outputs": [
    {
     "name": "stdout",
     "output_type": "stream",
     "text": [
      "Your New GUID is: h6bd9fac2g015fg4cf8ga52eg25fac6621de8\n"
     ]
    }
   ],
   "source": [
    "new_guid = generate_custom_id(add_version=False)\n",
    "print(\"Your New GUID is:\", new_guid)"
   ]
  }
 ],
 "metadata": {
  "kernelspec": {
   "display_name": "misc",
   "language": "python",
   "name": "python3"
  },
  "language_info": {
   "codemirror_mode": {
    "name": "ipython",
    "version": 3
   },
   "file_extension": ".py",
   "mimetype": "text/x-python",
   "name": "python",
   "nbconvert_exporter": "python",
   "pygments_lexer": "ipython3",
   "version": "3.10.14"
  }
 },
 "nbformat": 4,
 "nbformat_minor": 5
}
